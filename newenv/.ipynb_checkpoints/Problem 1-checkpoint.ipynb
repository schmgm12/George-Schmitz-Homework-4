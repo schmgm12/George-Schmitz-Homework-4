{
 "cells": [
  {
   "cell_type": "code",
   "execution_count": 1,
   "metadata": {},
   "outputs": [
    {
     "name": "stdout",
     "output_type": "stream",
     "text": [
      "Dictionary: A collection of key-value pairs\n",
      "String: A series of characters\n",
      "Boolean Expression: An expression that evaluates to True or False\n",
      "Comment: A note in a program that the Python interpreter ignores\n",
      "Value: An item associated with a key in a dictionary\n",
      "Loop: Work through a collection of items, one at a time\n",
      "List: A collection of items in a particular order\n",
      "Key: The first item in a key-value pair in a dictionary\n",
      "Float: A numerical value with a decimal component\n"
     ]
    }
   ],
   "source": [
    "hw_dictionary = {\n",
    "    'Dictionary' : 'A collection of key-value pairs',\n",
    "    'String' : 'A series of characters',\n",
    "    'Boolean Expression' : 'An expression that evaluates to True or False',\n",
    "    'Comment' : 'A note in a program that the Python interpreter ignores',\n",
    "    'Value' : 'An item associated with a key in a dictionary',\n",
    "    'Loop' : 'Work through a collection of items, one at a time',\n",
    "    'List' : 'A collection of items in a particular order',\n",
    "    'Key' : 'The first item in a key-value pair in a dictionary',\n",
    "    'Float' : 'A numerical value with a decimal component'\n",
    "}\n",
    "\n",
    "for key, value in hw_dictionary.items():\n",
    "    \n",
    "    print('{}: {}'.format(key, value))"
   ]
  },
  {
   "cell_type": "code",
   "execution_count": null,
   "metadata": {},
   "outputs": [],
   "source": []
  }
 ],
 "metadata": {
  "kernelspec": {
   "display_name": "Python 3",
   "language": "python",
   "name": "python3"
  },
  "language_info": {
   "codemirror_mode": {
    "name": "ipython",
    "version": 3
   },
   "file_extension": ".py",
   "mimetype": "text/x-python",
   "name": "python",
   "nbconvert_exporter": "python",
   "pygments_lexer": "ipython3",
   "version": "3.6.4"
  }
 },
 "nbformat": 4,
 "nbformat_minor": 2
}
