{
 "cells": [
  {
   "cell_type": "code",
   "execution_count": 8,
   "metadata": {},
   "outputs": [
    {
     "name": "stdout",
     "output_type": "stream",
     "text": [
      "We have the following movies in common:\n",
      "\n",
      "The Black Knight\n"
     ]
    }
   ],
   "source": [
    "my_movies = {'Bourne Ultimatum', 'Big Lewbowski', 'Shawshank Redemption',\n",
    "            'The Black Knight'}\n",
    "\n",
    "other_movies ={'Harry Potter', 'Lord of the Rings', 'Star Wars',\n",
    "              'The Hobbit', 'The Black Knight'}\n",
    "\n",
    "def common_movies(movie_list1, movie_list2):\n",
    "    if len(movie_list1 & movie_list2) > 0:\n",
    "        print('We have the following movies in common:\\n')\n",
    "        for movie in (movie_list1 & movie_list2):\n",
    "            print(movie)\n",
    "    else:\n",
    "        print('No movies in common.')\n",
    "    \n",
    "\n",
    "common_movies(my_movies, other_movies)\n",
    "    "
   ]
  },
  {
   "cell_type": "code",
   "execution_count": null,
   "metadata": {},
   "outputs": [],
   "source": []
  }
 ],
 "metadata": {
  "kernelspec": {
   "display_name": "Python 3",
   "language": "python",
   "name": "python3"
  },
  "language_info": {
   "codemirror_mode": {
    "name": "ipython",
    "version": 3
   },
   "file_extension": ".py",
   "mimetype": "text/x-python",
   "name": "python",
   "nbconvert_exporter": "python",
   "pygments_lexer": "ipython3",
   "version": "3.6.4"
  }
 },
 "nbformat": 4,
 "nbformat_minor": 2
}
