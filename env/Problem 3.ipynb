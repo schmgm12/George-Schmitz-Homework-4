{
 "cells": [
  {
   "cell_type": "code",
   "execution_count": 18,
   "metadata": {},
   "outputs": [
    {
     "name": "stdout",
     "output_type": "stream",
     "text": [
      "You have work in the AM, here's the routine\n",
      "Wake up\n",
      "Coffee\n",
      "Bus to Herald Square\n",
      "Subway\n",
      "Work\n",
      "Lunch\n",
      "Work some more\n",
      "Subway home\n",
      "Run\n",
      "Sleep\n"
     ]
    }
   ],
   "source": [
    "work_routine = (\n",
    "    'Wake up',\n",
    "    'Coffee',\n",
    "    'Bus to Herald Square',\n",
    "    'Subway',\n",
    "    'Work',\n",
    "    'Lunch',\n",
    "    'Work some more',\n",
    "    'Subway home',\n",
    "    'Run',\n",
    "    'Sleep'\n",
    ")\n",
    "\n",
    "weekend_routine = (\n",
    "    'Wake up',\n",
    "    'Go to the Gym',\n",
    "    'Work on homework',\n",
    "    'Dinner with friends'\n",
    ")\n",
    "\n",
    "\n",
    "def print_next_day_routine():\n",
    "    day = datetime.date.today().weekday()\n",
    "    if day in (0, 1, 2, 3, 4):\n",
    "        print('You have work in the AM, here\\'s the routine')\n",
    "        for item in work_routine:\n",
    "            print(item)\n",
    "    else:\n",
    "        for item in weekend_routine:\n",
    "            print(item)\n",
    "            print('\\nEnjoy the day weekend!')\n",
    "        \n",
    "def main():\n",
    "    import datetime\n",
    "    print_next_day_routine()\n",
    "    \n",
    "if __name__ == '__main__':\n",
    "    main()"
   ]
  },
  {
   "cell_type": "code",
   "execution_count": null,
   "metadata": {},
   "outputs": [],
   "source": []
  },
  {
   "cell_type": "code",
   "execution_count": null,
   "metadata": {},
   "outputs": [],
   "source": []
  }
 ],
 "metadata": {
  "kernelspec": {
   "display_name": "Python 3",
   "language": "python",
   "name": "python3"
  },
  "language_info": {
   "codemirror_mode": {
    "name": "ipython",
    "version": 3
   },
   "file_extension": ".py",
   "mimetype": "text/x-python",
   "name": "python",
   "nbconvert_exporter": "python",
   "pygments_lexer": "ipython3",
   "version": "3.6.4"
  }
 },
 "nbformat": 4,
 "nbformat_minor": 2
}
